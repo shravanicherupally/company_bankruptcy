{
 "cells": [
  {
   "cell_type": "code",
   "execution_count": 10,
   "id": "5f31ffc4",
   "metadata": {},
   "outputs": [],
   "source": [
    "import pandas as pd\n",
    "import joblib\n",
    "import os\n",
    "\n",
    "from sklearn.linear_model import LogisticRegression\n",
    "from sklearn.svm import SVC\n",
    "from sklearn.ensemble import RandomForestClassifier, AdaBoostClassifier, GradientBoostingClassifier\n",
    "from sklearn.metrics import accuracy_score"
   ]
  },
  {
   "cell_type": "code",
   "execution_count": 11,
   "id": "41fee5fc",
   "metadata": {},
   "outputs": [],
   "source": [
    "# ✅ Step 1: Load preprocessed data\n",
    "X_train = pd.read_csv(\"../Data/preprocessed/X_train.csv\")\n",
    "X_test = pd.read_csv(\"../Data/preprocessed/X_test.csv\")\n",
    "y_train = pd.read_csv(\"../Data/preprocessed/y_train.csv\").squeeze()\n",
    "y_test = pd.read_csv(\"../Data/preprocessed/y_test.csv\").squeeze()"
   ]
  },
  {
   "cell_type": "code",
   "execution_count": 12,
   "id": "5ef78d0a",
   "metadata": {},
   "outputs": [],
   "source": [
    "# ✅ Step 2: Define supervised models\n",
    "models = {\n",
    "    \"Logistic Regression\": LogisticRegression(),\n",
    "    \"SVM\": SVC(probability=True),\n",
    "    \"Random Forest\": RandomForestClassifier(),\n",
    "    \"AdaBoost\": AdaBoostClassifier(),\n",
    "    \"Gradient Boost\": GradientBoostingClassifier()\n",
    "}"
   ]
  },
  {
   "cell_type": "code",
   "execution_count": 13,
   "id": "9658e37d",
   "metadata": {},
   "outputs": [
    {
     "name": "stdout",
     "output_type": "stream",
     "text": [
      "🔍 Logistic Regression Accuracy: 0.5950\n",
      "🔍 SVM Accuracy: 0.5633\n",
      "🔍 Random Forest Accuracy: 0.6450\n",
      "🔍 AdaBoost Accuracy: 0.5883\n",
      "🔍 Gradient Boost Accuracy: 0.6300\n"
     ]
    }
   ],
   "source": [
    "# ✅ Step 3: Train and evaluate\n",
    "best_model = None\n",
    "best_score = 0\n",
    "best_model_name = \"\"\n",
    "\n",
    "for name, model in models.items():\n",
    "    model.fit(X_train, y_train)\n",
    "    y_pred = model.predict(X_test)\n",
    "    score = accuracy_score(y_test, y_pred)\n",
    "\n",
    "    print(f\"🔍 {name} Accuracy: {score:.4f}\")\n",
    "\n",
    "    if score > best_score:\n",
    "        best_score = score\n",
    "        best_model = model\n",
    "        best_model_name = name"
   ]
  },
  {
   "cell_type": "code",
   "execution_count": 14,
   "id": "5a3d4a22",
   "metadata": {},
   "outputs": [
    {
     "name": "stdout",
     "output_type": "stream",
     "text": [
      "\n",
      "✅ Best Model Summary:\n",
      "Best Model: Random Forest\n",
      "Accuracy: 0.6450\n",
      "📁 Saved to: ../App/model/model.pkl\n"
     ]
    }
   ],
   "source": [
    "# ✅ Step 4: Save best model\n",
    "model_dir = \"../App/model\"\n",
    "os.makedirs(model_dir, exist_ok=True)\n",
    "joblib.dump(best_model, os.path.join(model_dir, \"model.pkl\"))\n",
    "\n",
    "print(f\"\\n✅ Best Model Summary:\")\n",
    "print(f\"Best Model: {best_model_name}\")\n",
    "print(f\"Accuracy: {best_score:.4f}\")\n",
    "print(f\"📁 Saved to: {model_dir}/model.pkl\")"
   ]
  }
 ],
 "metadata": {
  "kernelspec": {
   "display_name": "project_4",
   "language": "python",
   "name": "python3"
  },
  "language_info": {
   "codemirror_mode": {
    "name": "ipython",
    "version": 3
   },
   "file_extension": ".py",
   "mimetype": "text/x-python",
   "name": "python",
   "nbconvert_exporter": "python",
   "pygments_lexer": "ipython3",
   "version": "3.10.18"
  }
 },
 "nbformat": 4,
 "nbformat_minor": 5
}
