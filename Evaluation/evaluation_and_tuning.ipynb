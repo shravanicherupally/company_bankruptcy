{
 "cells": [
  {
   "cell_type": "code",
   "execution_count": 10,
   "id": "9abbbd7f",
   "metadata": {},
   "outputs": [],
   "source": [
    "import pandas as pd\n",
    "import numpy as np\n",
    "import seaborn as sns\n",
    "import matplotlib.pyplot as plt\n",
    "\n",
    "from sklearn.linear_model import LogisticRegression\n",
    "from sklearn.svm import SVC\n",
    "from sklearn.ensemble import RandomForestClassifier, AdaBoostClassifier, GradientBoostingClassifier\n",
    "from sklearn.metrics import accuracy_score, classification_report, confusion_matrix"
   ]
  },
  {
   "cell_type": "code",
   "execution_count": 11,
   "id": "ffd24be3",
   "metadata": {},
   "outputs": [],
   "source": [
    "# Step 1: Load preprocessed data\n",
    "X_train = pd.read_csv(\"../Data/preprocessed/X_train.csv\")\n",
    "X_test = pd.read_csv(\"../Data/preprocessed/X_test.csv\")\n",
    "y_train = pd.read_csv(\"../Data/preprocessed/y_train.csv\").squeeze()\n",
    "y_test = pd.read_csv(\"../Data/preprocessed/y_test.csv\").squeeze()"
   ]
  },
  {
   "cell_type": "code",
   "execution_count": 12,
   "id": "97e79ff4",
   "metadata": {},
   "outputs": [],
   "source": [
    "# Step 2: Define models\n",
    "models = {\n",
    "    \"Logistic Regression\": LogisticRegression(),\n",
    "    \"SVM\": SVC(probability=True),\n",
    "    \"Random Forest\": RandomForestClassifier(),\n",
    "    \"AdaBoost\": AdaBoostClassifier(),\n",
    "    \"Gradient Boost\": GradientBoostingClassifier()\n",
    "}"
   ]
  },
  {
   "cell_type": "code",
   "execution_count": 13,
   "id": "7e7744b6",
   "metadata": {},
   "outputs": [
    {
     "name": "stdout",
     "output_type": "stream",
     "text": [
      "\n",
      "📊 Logistic Regression Classification Report:\n",
      "\n",
      "              precision    recall  f1-score   support\n",
      "\n",
      "           0       0.71      0.32      0.44       300\n",
      "           1       0.56      0.87      0.68       300\n",
      "\n",
      "    accuracy                           0.59       600\n",
      "   macro avg       0.64      0.59      0.56       600\n",
      "weighted avg       0.64      0.59      0.56       600\n",
      "\n",
      "\n",
      "📊 SVM Classification Report:\n",
      "\n",
      "              precision    recall  f1-score   support\n",
      "\n",
      "           0       0.74      0.19      0.31       300\n",
      "           1       0.54      0.93      0.68       300\n",
      "\n",
      "    accuracy                           0.56       600\n",
      "   macro avg       0.64      0.56      0.49       600\n",
      "weighted avg       0.64      0.56      0.49       600\n",
      "\n",
      "\n",
      "📊 Random Forest Classification Report:\n",
      "\n",
      "              precision    recall  f1-score   support\n",
      "\n",
      "           0       0.66      0.61      0.64       300\n",
      "           1       0.64      0.69      0.66       300\n",
      "\n",
      "    accuracy                           0.65       600\n",
      "   macro avg       0.65      0.65      0.65       600\n",
      "weighted avg       0.65      0.65      0.65       600\n",
      "\n",
      "\n",
      "📊 AdaBoost Classification Report:\n",
      "\n",
      "              precision    recall  f1-score   support\n",
      "\n",
      "           0       0.58      0.65      0.61       300\n",
      "           1       0.60      0.52      0.56       300\n",
      "\n",
      "    accuracy                           0.59       600\n",
      "   macro avg       0.59      0.59      0.59       600\n",
      "weighted avg       0.59      0.59      0.59       600\n",
      "\n",
      "\n",
      "📊 Gradient Boost Classification Report:\n",
      "\n",
      "              precision    recall  f1-score   support\n",
      "\n",
      "           0       0.61      0.61      0.61       300\n",
      "           1       0.61      0.61      0.61       300\n",
      "\n",
      "    accuracy                           0.61       600\n",
      "   macro avg       0.61      0.61      0.61       600\n",
      "weighted avg       0.61      0.61      0.61       600\n",
      "\n"
     ]
    }
   ],
   "source": [
    "# Step 3: Train and evaluate\n",
    "results = []\n",
    "\n",
    "for name, model in models.items():\n",
    "    model.fit(X_train, y_train)\n",
    "    y_pred = model.predict(X_test)\n",
    "    \n",
    "    acc = accuracy_score(y_test, y_pred)\n",
    "    report = classification_report(y_test, y_pred, output_dict=True)\n",
    "    \n",
    "    results.append({\n",
    "        \"Model\": name,\n",
    "        \"Accuracy\": acc,\n",
    "        \"Precision (0)\": report[\"0\"][\"precision\"],\n",
    "        \"Recall (0)\": report[\"0\"][\"recall\"],\n",
    "        \"F1-Score (0)\": report[\"0\"][\"f1-score\"],\n",
    "        \"Precision (1)\": report[\"1\"][\"precision\"],\n",
    "        \"Recall (1)\": report[\"1\"][\"recall\"],\n",
    "        \"F1-Score (1)\": report[\"1\"][\"f1-score\"]\n",
    "    })\n",
    "    \n",
    "    print(f\"\\n📊 {name} Classification Report:\\n\")\n",
    "    print(classification_report(y_test, y_pred))"
   ]
  },
  {
   "cell_type": "code",
   "execution_count": 14,
   "id": "770a572e",
   "metadata": {},
   "outputs": [
    {
     "name": "stdout",
     "output_type": "stream",
     "text": [
      "\n",
      "✅ Model Comparison Table:\n"
     ]
    },
    {
     "data": {
      "text/html": [
       "<div>\n",
       "<style scoped>\n",
       "    .dataframe tbody tr th:only-of-type {\n",
       "        vertical-align: middle;\n",
       "    }\n",
       "\n",
       "    .dataframe tbody tr th {\n",
       "        vertical-align: top;\n",
       "    }\n",
       "\n",
       "    .dataframe thead th {\n",
       "        text-align: right;\n",
       "    }\n",
       "</style>\n",
       "<table border=\"1\" class=\"dataframe\">\n",
       "  <thead>\n",
       "    <tr style=\"text-align: right;\">\n",
       "      <th></th>\n",
       "      <th>Model</th>\n",
       "      <th>Accuracy</th>\n",
       "      <th>Precision (0)</th>\n",
       "      <th>Recall (0)</th>\n",
       "      <th>F1-Score (0)</th>\n",
       "      <th>Precision (1)</th>\n",
       "      <th>Recall (1)</th>\n",
       "      <th>F1-Score (1)</th>\n",
       "    </tr>\n",
       "  </thead>\n",
       "  <tbody>\n",
       "    <tr>\n",
       "      <th>2</th>\n",
       "      <td>Random Forest</td>\n",
       "      <td>0.651667</td>\n",
       "      <td>0.664260</td>\n",
       "      <td>0.613333</td>\n",
       "      <td>0.637782</td>\n",
       "      <td>0.640867</td>\n",
       "      <td>0.690000</td>\n",
       "      <td>0.664526</td>\n",
       "    </tr>\n",
       "    <tr>\n",
       "      <th>4</th>\n",
       "      <td>Gradient Boost</td>\n",
       "      <td>0.610000</td>\n",
       "      <td>0.609272</td>\n",
       "      <td>0.613333</td>\n",
       "      <td>0.611296</td>\n",
       "      <td>0.610738</td>\n",
       "      <td>0.606667</td>\n",
       "      <td>0.608696</td>\n",
       "    </tr>\n",
       "    <tr>\n",
       "      <th>0</th>\n",
       "      <td>Logistic Regression</td>\n",
       "      <td>0.595000</td>\n",
       "      <td>0.711111</td>\n",
       "      <td>0.320000</td>\n",
       "      <td>0.441379</td>\n",
       "      <td>0.561290</td>\n",
       "      <td>0.870000</td>\n",
       "      <td>0.682353</td>\n",
       "    </tr>\n",
       "    <tr>\n",
       "      <th>3</th>\n",
       "      <td>AdaBoost</td>\n",
       "      <td>0.588333</td>\n",
       "      <td>0.578171</td>\n",
       "      <td>0.653333</td>\n",
       "      <td>0.613459</td>\n",
       "      <td>0.601533</td>\n",
       "      <td>0.523333</td>\n",
       "      <td>0.559715</td>\n",
       "    </tr>\n",
       "    <tr>\n",
       "      <th>1</th>\n",
       "      <td>SVM</td>\n",
       "      <td>0.563333</td>\n",
       "      <td>0.743590</td>\n",
       "      <td>0.193333</td>\n",
       "      <td>0.306878</td>\n",
       "      <td>0.536398</td>\n",
       "      <td>0.933333</td>\n",
       "      <td>0.681265</td>\n",
       "    </tr>\n",
       "  </tbody>\n",
       "</table>\n",
       "</div>"
      ],
      "text/plain": [
       "                 Model  Accuracy  Precision (0)  Recall (0)  F1-Score (0)  \\\n",
       "2        Random Forest  0.651667       0.664260    0.613333      0.637782   \n",
       "4       Gradient Boost  0.610000       0.609272    0.613333      0.611296   \n",
       "0  Logistic Regression  0.595000       0.711111    0.320000      0.441379   \n",
       "3             AdaBoost  0.588333       0.578171    0.653333      0.613459   \n",
       "1                  SVM  0.563333       0.743590    0.193333      0.306878   \n",
       "\n",
       "   Precision (1)  Recall (1)  F1-Score (1)  \n",
       "2       0.640867    0.690000      0.664526  \n",
       "4       0.610738    0.606667      0.608696  \n",
       "0       0.561290    0.870000      0.682353  \n",
       "3       0.601533    0.523333      0.559715  \n",
       "1       0.536398    0.933333      0.681265  "
      ]
     },
     "metadata": {},
     "output_type": "display_data"
    }
   ],
   "source": [
    "# Step 4: Show results as a DataFrame\n",
    "results_df = pd.DataFrame(results)\n",
    "results_df = results_df.sort_values(by=\"Accuracy\", ascending=False)\n",
    "print(\"\\n✅ Model Comparison Table:\")\n",
    "display(results_df)"
   ]
  },
  {
   "cell_type": "code",
   "execution_count": 15,
   "id": "1929dc91",
   "metadata": {},
   "outputs": [
    {
     "name": "stdout",
     "output_type": "stream",
     "text": [
      "\n",
      "🏆 Best Model Based on Accuracy: Random Forest\n"
     ]
    }
   ],
   "source": [
    "# Step 5: Best model name\n",
    "best_model_name = results_df.iloc[0][\"Model\"]\n",
    "print(f\"\\n🏆 Best Model Based on Accuracy: {best_model_name}\")"
   ]
  },
  {
   "cell_type": "code",
   "execution_count": 16,
   "id": "761e008f",
   "metadata": {},
   "outputs": [
    {
     "name": "stdout",
     "output_type": "stream",
     "text": [
      "\n",
      "🔎 Confusion Matrix for Random Forest:\n"
     ]
    },
    {
     "data": {
      "image/png": "[encoded data removed]",
      "text/plain": [
       "<Figure size 640x480 with 2 Axes>"
      ]
     },
     "metadata": {},
     "output_type": "display_data"
    }
   ],
   "source": [
    "# Optional Step 6: Confusion matrix for best model\n",
    "print(f\"\\n🔎 Confusion Matrix for {best_model_name}:\")\n",
    "best_model = models[best_model_name]\n",
    "y_pred_best = best_model.predict(X_test)\n",
    "\n",
    "cm = confusion_matrix(y_test, y_pred_best)\n",
    "sns.heatmap(cm, annot=True, fmt='d', cmap=\"Blues\", xticklabels=[\"Alive\", \"Failed\"], yticklabels=[\"Alive\", \"Failed\"])\n",
    "plt.xlabel(\"Predicted\")\n",
    "plt.ylabel(\"Actual\")\n",
    "plt.title(f\"Confusion Matrix: {best_model_name}\")\n",
    "plt.show()"
   ]
  }
 ],
 "metadata": {
  "kernelspec": {
   "display_name": "project_4",
   "language": "python",
   "name": "python3"
  },
  "language_info": {
   "codemirror_mode": {
    "name": "ipython",
    "version": 3
   },
   "file_extension": ".py",
   "mimetype": "text/x-python",
   "name": "python",
   "nbconvert_exporter": "python",
   "pygments_lexer": "ipython3",
   "version": "3.10.18"
  }
 },
 "nbformat": 4,
 "nbformat_minor": 5
}
