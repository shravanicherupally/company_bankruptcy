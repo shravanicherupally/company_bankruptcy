{
 "cells": [
  {
   "cell_type": "code",
   "execution_count": 16,
   "id": "a39e4e42",
   "metadata": {},
   "outputs": [],
   "source": [
    "import pandas as pd\n",
    "import numpy as np\n",
    "from sklearn.model_selection import train_test_split\n",
    "from sklearn.preprocessing import StandardScaler\n",
    "import os"
   ]
  },
  {
   "cell_type": "code",
   "execution_count": 17,
   "id": "813d5f10",
   "metadata": {},
   "outputs": [],
   "source": [
    "# Step 1: Load dataset\n",
    "df = pd.read_csv(\"../Data/company_top4_features.csv\")"
   ]
  },
  {
   "cell_type": "code",
   "execution_count": 18,
   "id": "112612a6",
   "metadata": {},
   "outputs": [],
   "source": [
    "# Step 2: Separate features and target\n",
    "X = df.drop(columns=['status_label'])\n",
    "y = df['status_label']"
   ]
  },
  {
   "cell_type": "code",
   "execution_count": 19,
   "id": "4ed4d52a",
   "metadata": {},
   "outputs": [],
   "source": [
    "# Step 3: Feature scaling\n",
    "scaler = StandardScaler()\n",
    "X_scaled = scaler.fit_transform(X)\n",
    "\n",
    "# Convert scaled features back to DataFrame for saving\n",
    "X_scaled_df = pd.DataFrame(X_scaled, columns=X.columns)"
   ]
  },
  {
   "cell_type": "code",
   "execution_count": 20,
   "id": "9f1aadb2",
   "metadata": {},
   "outputs": [],
   "source": [
    "# Step 5: Save all splits to CSVs\n",
    "output_dir = \"../Data/preprocessed\"\n",
    "os.makedirs(output_dir, exist_ok=True)\n",
    "\n",
    "X_train.to_csv(os.path.join(output_dir, \"X_train.csv\"), index=False)\n",
    "X_test.to_csv(os.path.join(output_dir, \"X_test.csv\"), index=False)\n",
    "y_train.to_csv(os.path.join(output_dir, \"y_train.csv\"), index=False)\n",
    "y_test.to_csv(os.path.join(output_dir, \"y_test.csv\"), index=False)"
   ]
  },
  {
   "cell_type": "code",
   "execution_count": 21,
   "id": "1c988af9",
   "metadata": {},
   "outputs": [
    {
     "name": "stdout",
     "output_type": "stream",
     "text": [
      "✅ Preprocessing complete and saved as CSV.\n",
      "🔹 X_train shape: (2400, 4)\n",
      "🔹 X_test shape: (600, 4)\n",
      "🔹 y_train shape: (2400,)\n",
      "🔹 y_test shape: (600,)\n"
     ]
    }
   ],
   "source": [
    "# Step 6: Print status\n",
    "print(\"✅ Preprocessing complete and saved as CSV.\")\n",
    "print(f\"🔹 X_train shape: {X_train.shape}\")\n",
    "print(f\"🔹 X_test shape: {X_test.shape}\")\n",
    "print(f\"🔹 y_train shape: {y_train.shape}\")\n",
    "print(f\"🔹 y_test shape: {y_test.shape}\")"
   ]
  },
  {
   "cell_type": "code",
   "execution_count": 22,
   "id": "f5e60bb3",
   "metadata": {},
   "outputs": [],
   "source": [
    "import pandas as pd\n",
    "import numpy as np\n",
    "from sklearn.model_selection import train_test_split\n",
    "from sklearn.preprocessing import StandardScaler\n",
    "import os\n",
    "import joblib"
   ]
  },
  {
   "cell_type": "code",
   "execution_count": 23,
   "id": "b7dd81a5",
   "metadata": {},
   "outputs": [],
   "source": [
    "# Step 1: Load dataset\n",
    "df = pd.read_csv(\"../Data/company_top4_features.csv\")"
   ]
  },
  {
   "cell_type": "code",
   "execution_count": 24,
   "id": "b1cd21c4",
   "metadata": {},
   "outputs": [],
   "source": [
    "# Step 2: Drop duplicates\n",
    "df.drop_duplicates(inplace=True)"
   ]
  },
  {
   "cell_type": "code",
   "execution_count": 25,
   "id": "149c109d",
   "metadata": {},
   "outputs": [
    {
     "name": "stdout",
     "output_type": "stream",
     "text": [
      "✅ No missing values.\n"
     ]
    }
   ],
   "source": [
    "# Step 3: Check and fill missing values\n",
    "if df.isnull().sum().any():\n",
    "    print(\"❗ Missing values found. Filling with mean.\")\n",
    "    df.fillna(df.mean(), inplace=True)\n",
    "else:\n",
    "    print(\"✅ No missing values.\")"
   ]
  },
  {
   "cell_type": "code",
   "execution_count": 26,
   "id": "0576a6be",
   "metadata": {},
   "outputs": [],
   "source": [
    "# Step 4: Shuffle the dataset\n",
    "df = df.sample(frac=1, random_state=42).reset_index(drop=True)"
   ]
  },
  {
   "cell_type": "code",
   "execution_count": 27,
   "id": "ee7516d1",
   "metadata": {},
   "outputs": [],
   "source": [
    "# Step 5: Separate features and target\n",
    "X = df.drop(columns=['status_label'])\n",
    "y = df['status_label']"
   ]
  },
  {
   "cell_type": "code",
   "execution_count": 28,
   "id": "456868c5",
   "metadata": {},
   "outputs": [],
   "source": [
    "# Step 6: Scale features\n",
    "scaler = StandardScaler()\n",
    "X_scaled = scaler.fit_transform(X)\n"
   ]
  },
  {
   "cell_type": "code",
   "execution_count": 29,
   "id": "870232e0",
   "metadata": {},
   "outputs": [],
   "source": [
    "# Step 7: Train-test split\n",
    "X_train, X_test, y_train, y_test = train_test_split(\n",
    "    X_scaled, y, test_size=0.2, stratify=y, random_state=42\n",
    ")\n"
   ]
  },
  {
   "cell_type": "code",
   "execution_count": 30,
   "id": "022d8566",
   "metadata": {},
   "outputs": [
    {
     "name": "stdout",
     "output_type": "stream",
     "text": [
      "✅ Preprocessed CSV files saved in: Data/preprocessed/\n"
     ]
    }
   ],
   "source": [
    "# Step 8: Save as CSV (optional: for later inspection)\n",
    "os.makedirs(\"../Data/preprocessed\", exist_ok=True)\n",
    "\n",
    "pd.DataFrame(X_train, columns=X.columns).to_csv(\"../Data/preprocessed/X_train.csv\", index=False)\n",
    "pd.DataFrame(X_test, columns=X.columns).to_csv(\"../Data/preprocessed/X_test.csv\", index=False)\n",
    "pd.DataFrame(y_train).to_csv(\"../Data/preprocessed/y_train.csv\", index=False)\n",
    "pd.DataFrame(y_test).to_csv(\"../Data/preprocessed/y_test.csv\", index=False)\n",
    "\n",
    "print(\"✅ Preprocessed CSV files saved in: Data/preprocessed/\")"
   ]
  },
  {
   "cell_type": "code",
   "execution_count": 31,
   "id": "44a70edf",
   "metadata": {},
   "outputs": [
    {
     "name": "stdout",
     "output_type": "stream",
     "text": [
      "✅ scaler.pkl saved in App/model/\n"
     ]
    }
   ],
   "source": [
    "# Step 9: Save the scaler so app.py can load it\n",
    "os.makedirs(\"../App/model\", exist_ok=True)\n",
    "joblib.dump(scaler, \"../App/model/scaler.pkl\")\n",
    "print(\"✅ scaler.pkl saved in App/model/\")"
   ]
  }
 ],
 "metadata": {
  "kernelspec": {
   "display_name": "project_4",
   "language": "python",
   "name": "python3"
  },
  "language_info": {
   "codemirror_mode": {
    "name": "ipython",
    "version": 3
   },
   "file_extension": ".py",
   "mimetype": "text/x-python",
   "name": "python",
   "nbconvert_exporter": "python",
   "pygments_lexer": "ipython3",
   "version": "3.10.18"
  }
 },
 "nbformat": 4,
 "nbformat_minor": 5
}
