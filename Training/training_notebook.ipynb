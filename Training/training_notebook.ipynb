{
 "cells": [
  {
   "cell_type": "code",
   "execution_count": 12,
   "id": "d40f63bc",
   "metadata": {},
   "outputs": [],
   "source": [
    "import pandas as pd\n",
    "from sklearn.linear_model import LogisticRegression\n",
    "from sklearn.svm import SVC\n",
    "from sklearn.ensemble import RandomForestClassifier, AdaBoostClassifier, GradientBoostingClassifier"
   ]
  },
  {
   "cell_type": "code",
   "execution_count": 13,
   "id": "464b4c6f",
   "metadata": {},
   "outputs": [],
   "source": [
    "# Step 1: Load preprocessed data\n",
    "X_train = pd.read_csv(\"../Data/preprocessed/X_train.csv\")\n",
    "X_test = pd.read_csv(\"../Data/preprocessed/X_test.csv\")\n",
    "y_train = pd.read_csv(\"../Data/preprocessed/y_train.csv\").squeeze()\n",
    "y_test = pd.read_csv(\"../Data/preprocessed/y_test.csv\").squeeze()\n"
   ]
  },
  {
   "cell_type": "code",
   "execution_count": 14,
   "id": "4d4b767e",
   "metadata": {},
   "outputs": [],
   "source": [
    "# Step 2: Define supervised models\n",
    "models = {\n",
    "    \"Logistic Regression\": LogisticRegression(),\n",
    "    \"SVM\": SVC(probability=True),\n",
    "    \"Random Forest\": RandomForestClassifier(),\n",
    "    \"AdaBoost\": AdaBoostClassifier(),\n",
    "    \"Gradient Boost\": GradientBoostingClassifier()\n",
    "}"
   ]
  },
  {
   "cell_type": "code",
   "execution_count": 15,
   "id": "bd906170",
   "metadata": {},
   "outputs": [
    {
     "name": "stdout",
     "output_type": "stream",
     "text": [
      "✅ Logistic Regression trained successfully.\n",
      "✅ SVM trained successfully.\n",
      "✅ Random Forest trained successfully.\n",
      "✅ AdaBoost trained successfully.\n",
      "✅ Gradient Boost trained successfully.\n"
     ]
    }
   ],
   "source": [
    "# Step 3: Train each model\n",
    "trained_models = {}\n",
    "\n",
    "for name, model in models.items():\n",
    "    model.fit(X_train, y_train)\n",
    "    trained_models[name] = model\n",
    "    print(f\"✅ {name} trained successfully.\")"
   ]
  }
 ],
 "metadata": {
  "kernelspec": {
   "display_name": "project_4",
   "language": "python",
   "name": "python3"
  },
  "language_info": {
   "codemirror_mode": {
    "name": "ipython",
    "version": 3
   },
   "file_extension": ".py",
   "mimetype": "text/x-python",
   "name": "python",
   "nbconvert_exporter": "python",
   "pygments_lexer": "ipython3",
   "version": "3.10.18"
  }
 },
 "nbformat": 4,
 "nbformat_minor": 5
}
